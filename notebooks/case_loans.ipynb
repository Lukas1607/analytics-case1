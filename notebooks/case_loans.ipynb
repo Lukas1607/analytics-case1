{
 "cells": [
  {
   "cell_type": "markdown",
   "metadata": {},
   "source": [
    "# Case Loans"
   ]
  },
  {
   "cell_type": "code",
   "execution_count": 3,
   "metadata": {},
   "outputs": [],
   "source": [
    "# Import von Modulen\n",
    "\n",
    "import pandas as pd\n",
    "import numpy as np\n",
    "from sklearn.model_selection import train_test_split"
   ]
  },
  {
   "cell_type": "markdown",
   "metadata": {},
   "source": [
    "# Data "
   ]
  },
  {
   "cell_type": "code",
   "execution_count": 4,
   "metadata": {},
   "outputs": [],
   "source": [
    "## Link to data\n",
    "\n",
    "ROOT = \"https://raw.githubusercontent.com/kirenz/modern-statistics/main/data/\"\n",
    "DATA = \"loans.csv\"\n",
    "\n",
    "df = pd.read_csv(ROOT + DATA)"
   ]
  },
  {
   "cell_type": "code",
   "execution_count": 5,
   "metadata": {},
   "outputs": [
    {
     "name": "stdout",
     "output_type": "stream",
     "text": [
      "<class 'pandas.core.frame.DataFrame'>\n",
      "RangeIndex: 10000 entries, 0 to 9999\n",
      "Data columns (total 55 columns):\n",
      " #   Column                            Non-Null Count  Dtype  \n",
      "---  ------                            --------------  -----  \n",
      " 0   emp_title                         9167 non-null   object \n",
      " 1   emp_length                        9183 non-null   float64\n",
      " 2   state                             10000 non-null  object \n",
      " 3   homeownership                     10000 non-null  object \n",
      " 4   annual_income                     10000 non-null  float64\n",
      " 5   verified_income                   10000 non-null  object \n",
      " 6   debt_to_income                    9976 non-null   float64\n",
      " 7   annual_income_joint               1495 non-null   float64\n",
      " 8   verification_income_joint         1455 non-null   object \n",
      " 9   debt_to_income_joint              1495 non-null   float64\n",
      " 10  delinq_2y                         10000 non-null  int64  \n",
      " 11  months_since_last_delinq          4342 non-null   float64\n",
      " 12  earliest_credit_line              10000 non-null  int64  \n",
      " 13  inquiries_last_12m                10000 non-null  int64  \n",
      " 14  total_credit_lines                10000 non-null  int64  \n",
      " 15  open_credit_lines                 10000 non-null  int64  \n",
      " 16  total_credit_limit                10000 non-null  int64  \n",
      " 17  total_credit_utilized             10000 non-null  int64  \n",
      " 18  num_collections_last_12m          10000 non-null  int64  \n",
      " 19  num_historical_failed_to_pay      10000 non-null  int64  \n",
      " 20  months_since_90d_late             2285 non-null   float64\n",
      " 21  current_accounts_delinq           10000 non-null  int64  \n",
      " 22  total_collection_amount_ever      10000 non-null  int64  \n",
      " 23  current_installment_accounts      10000 non-null  int64  \n",
      " 24  accounts_opened_24m               10000 non-null  int64  \n",
      " 25  months_since_last_credit_inquiry  8729 non-null   float64\n",
      " 26  num_satisfactory_accounts         10000 non-null  int64  \n",
      " 27  num_accounts_120d_past_due        9682 non-null   float64\n",
      " 28  num_accounts_30d_past_due         10000 non-null  int64  \n",
      " 29  num_active_debit_accounts         10000 non-null  int64  \n",
      " 30  total_debit_limit                 10000 non-null  int64  \n",
      " 31  num_total_cc_accounts             10000 non-null  int64  \n",
      " 32  num_open_cc_accounts              10000 non-null  int64  \n",
      " 33  num_cc_carrying_balance           10000 non-null  int64  \n",
      " 34  num_mort_accounts                 10000 non-null  int64  \n",
      " 35  account_never_delinq_percent      10000 non-null  float64\n",
      " 36  tax_liens                         10000 non-null  int64  \n",
      " 37  public_record_bankrupt            10000 non-null  int64  \n",
      " 38  loan_purpose                      10000 non-null  object \n",
      " 39  application_type                  10000 non-null  object \n",
      " 40  loan_amount                       10000 non-null  int64  \n",
      " 41  term                              10000 non-null  int64  \n",
      " 42  interest_rate                     10000 non-null  float64\n",
      " 43  installment                       10000 non-null  float64\n",
      " 44  grade                             10000 non-null  object \n",
      " 45  sub_grade                         10000 non-null  object \n",
      " 46  issue_month                       10000 non-null  object \n",
      " 47  loan_status                       10000 non-null  object \n",
      " 48  initial_listing_status            10000 non-null  object \n",
      " 49  disbursement_method               10000 non-null  object \n",
      " 50  balance                           10000 non-null  float64\n",
      " 51  paid_total                        10000 non-null  float64\n",
      " 52  paid_principal                    10000 non-null  float64\n",
      " 53  paid_interest                     10000 non-null  float64\n",
      " 54  paid_late_fees                    10000 non-null  float64\n",
      "dtypes: float64(17), int64(25), object(13)\n",
      "memory usage: 4.2+ MB\n",
      "------------------\n",
      "We have 10,000 observations and 55 columns in our dataset.\n",
      "------------\n"
     ]
    }
   ],
   "source": [
    "## Overview\n",
    "\n",
    "df.info()\n",
    "\n",
    "print(\"------------------\")\n",
    "print(f\"We have {len(df.index):,} observations and {len(df.columns)} columns in our dataset.\")\n",
    "print(\"------------\")"
   ]
  },
  {
   "cell_type": "markdown",
   "metadata": {},
   "source": [
    "## Data correction"
   ]
  },
  {
   "cell_type": "code",
   "execution_count": 8,
   "metadata": {},
   "outputs": [],
   "source": [
    "df['state'] = df['state'].astype('category')"
   ]
  },
  {
   "cell_type": "code",
   "execution_count": 9,
   "metadata": {},
   "outputs": [],
   "source": [
    "# Convert to categorical\n",
    "\n",
    "cat_convert = ['emp_title', 'homeownership', 'verified_income']\n",
    "\n",
    "for i in cat_convert:\n",
    "    df[i] = df[i].astype(\"category\")"
   ]
  },
  {
   "cell_type": "code",
   "execution_count": 10,
   "metadata": {},
   "outputs": [
    {
     "name": "stdout",
     "output_type": "stream",
     "text": [
      "<class 'pandas.core.frame.DataFrame'>\n",
      "RangeIndex: 10000 entries, 0 to 9999\n",
      "Data columns (total 55 columns):\n",
      " #   Column                            Non-Null Count  Dtype   \n",
      "---  ------                            --------------  -----   \n",
      " 0   emp_title                         9167 non-null   category\n",
      " 1   emp_length                        9183 non-null   float64 \n",
      " 2   state                             10000 non-null  category\n",
      " 3   homeownership                     10000 non-null  category\n",
      " 4   annual_income                     10000 non-null  float64 \n",
      " 5   verified_income                   10000 non-null  category\n",
      " 6   debt_to_income                    9976 non-null   float64 \n",
      " 7   annual_income_joint               1495 non-null   float64 \n",
      " 8   verification_income_joint         1455 non-null   object  \n",
      " 9   debt_to_income_joint              1495 non-null   float64 \n",
      " 10  delinq_2y                         10000 non-null  int64   \n",
      " 11  months_since_last_delinq          4342 non-null   float64 \n",
      " 12  earliest_credit_line              10000 non-null  int64   \n",
      " 13  inquiries_last_12m                10000 non-null  int64   \n",
      " 14  total_credit_lines                10000 non-null  int64   \n",
      " 15  open_credit_lines                 10000 non-null  int64   \n",
      " 16  total_credit_limit                10000 non-null  int64   \n",
      " 17  total_credit_utilized             10000 non-null  int64   \n",
      " 18  num_collections_last_12m          10000 non-null  int64   \n",
      " 19  num_historical_failed_to_pay      10000 non-null  int64   \n",
      " 20  months_since_90d_late             2285 non-null   float64 \n",
      " 21  current_accounts_delinq           10000 non-null  int64   \n",
      " 22  total_collection_amount_ever      10000 non-null  int64   \n",
      " 23  current_installment_accounts      10000 non-null  int64   \n",
      " 24  accounts_opened_24m               10000 non-null  int64   \n",
      " 25  months_since_last_credit_inquiry  8729 non-null   float64 \n",
      " 26  num_satisfactory_accounts         10000 non-null  int64   \n",
      " 27  num_accounts_120d_past_due        9682 non-null   float64 \n",
      " 28  num_accounts_30d_past_due         10000 non-null  int64   \n",
      " 29  num_active_debit_accounts         10000 non-null  int64   \n",
      " 30  total_debit_limit                 10000 non-null  int64   \n",
      " 31  num_total_cc_accounts             10000 non-null  int64   \n",
      " 32  num_open_cc_accounts              10000 non-null  int64   \n",
      " 33  num_cc_carrying_balance           10000 non-null  int64   \n",
      " 34  num_mort_accounts                 10000 non-null  int64   \n",
      " 35  account_never_delinq_percent      10000 non-null  float64 \n",
      " 36  tax_liens                         10000 non-null  int64   \n",
      " 37  public_record_bankrupt            10000 non-null  int64   \n",
      " 38  loan_purpose                      10000 non-null  object  \n",
      " 39  application_type                  10000 non-null  object  \n",
      " 40  loan_amount                       10000 non-null  int64   \n",
      " 41  term                              10000 non-null  int64   \n",
      " 42  interest_rate                     10000 non-null  float64 \n",
      " 43  installment                       10000 non-null  float64 \n",
      " 44  grade                             10000 non-null  object  \n",
      " 45  sub_grade                         10000 non-null  object  \n",
      " 46  issue_month                       10000 non-null  object  \n",
      " 47  loan_status                       10000 non-null  object  \n",
      " 48  initial_listing_status            10000 non-null  object  \n",
      " 49  disbursement_method               10000 non-null  object  \n",
      " 50  balance                           10000 non-null  float64 \n",
      " 51  paid_total                        10000 non-null  float64 \n",
      " 52  paid_principal                    10000 non-null  float64 \n",
      " 53  paid_interest                     10000 non-null  float64 \n",
      " 54  paid_late_fees                    10000 non-null  float64 \n",
      "dtypes: category(4), float64(17), int64(25), object(9)\n",
      "memory usage: 4.1+ MB\n"
     ]
    }
   ],
   "source": [
    "df.info()"
   ]
  },
  {
   "cell_type": "code",
   "execution_count": 11,
   "metadata": {},
   "outputs": [],
   "source": [
    "df[\"metric\"] = df[\"annual_income\"] / df[\"total_credit_limit\"]"
   ]
  },
  {
   "cell_type": "code",
   "execution_count": 12,
   "metadata": {},
   "outputs": [],
   "source": [
    "# list of all numerical data\n",
    "list_num = df.select_dtypes(include=[np.number]).columns.tolist()"
   ]
  },
  {
   "cell_type": "code",
   "execution_count": 13,
   "metadata": {},
   "outputs": [
    {
     "data": {
      "text/plain": [
       "['emp_length',\n",
       " 'annual_income',\n",
       " 'debt_to_income',\n",
       " 'annual_income_joint',\n",
       " 'debt_to_income_joint',\n",
       " 'delinq_2y',\n",
       " 'months_since_last_delinq',\n",
       " 'earliest_credit_line',\n",
       " 'inquiries_last_12m',\n",
       " 'total_credit_lines',\n",
       " 'open_credit_lines',\n",
       " 'total_credit_limit',\n",
       " 'total_credit_utilized',\n",
       " 'num_collections_last_12m',\n",
       " 'num_historical_failed_to_pay',\n",
       " 'months_since_90d_late',\n",
       " 'current_accounts_delinq',\n",
       " 'total_collection_amount_ever',\n",
       " 'current_installment_accounts',\n",
       " 'accounts_opened_24m',\n",
       " 'months_since_last_credit_inquiry',\n",
       " 'num_satisfactory_accounts',\n",
       " 'num_accounts_120d_past_due',\n",
       " 'num_accounts_30d_past_due',\n",
       " 'num_active_debit_accounts',\n",
       " 'total_debit_limit',\n",
       " 'num_total_cc_accounts',\n",
       " 'num_open_cc_accounts',\n",
       " 'num_cc_carrying_balance',\n",
       " 'num_mort_accounts',\n",
       " 'account_never_delinq_percent',\n",
       " 'tax_liens',\n",
       " 'public_record_bankrupt',\n",
       " 'loan_amount',\n",
       " 'term',\n",
       " 'interest_rate',\n",
       " 'installment',\n",
       " 'balance',\n",
       " 'paid_total',\n",
       " 'paid_principal',\n",
       " 'paid_interest',\n",
       " 'paid_late_fees',\n",
       " 'metric']"
      ]
     },
     "execution_count": 13,
     "metadata": {},
     "output_type": "execute_result"
    }
   ],
   "source": [
    "list_num"
   ]
  },
  {
   "cell_type": "code",
   "execution_count": 14,
   "metadata": {},
   "outputs": [
    {
     "data": {
      "text/plain": [
       "['emp_title', 'state', 'homeownership', 'verified_income']"
      ]
     },
     "execution_count": 14,
     "metadata": {},
     "output_type": "execute_result"
    }
   ],
   "source": [
    "# list of all categorical data\n",
    "list_cat = df.select_dtypes(include=['category']).columns.tolist()\n",
    "list_cat"
   ]
  },
  {
   "cell_type": "markdown",
   "metadata": {},
   "source": [
    "## Preparation for data splitting"
   ]
  },
  {
   "cell_type": "code",
   "execution_count": 15,
   "metadata": {},
   "outputs": [],
   "source": [
    "# define outcome variable as y_label\n",
    "y_label = 'interest_rate'\n",
    "\n",
    "# select features\n",
    "features = df.drop(columns=[y_label]).columns.tolist()"
   ]
  },
  {
   "cell_type": "code",
   "execution_count": 17,
   "metadata": {},
   "outputs": [],
   "source": [
    "# create feature data for data splitting\n",
    "X = df[features]\n",
    "\n",
    "# list of numeric features\n",
    "feat_num = X.select_dtypes(include=[np.number]).columns.tolist()\n"
   ]
  },
  {
   "cell_type": "code",
   "execution_count": 18,
   "metadata": {},
   "outputs": [],
   "source": [
    "# list of categorical features\n",
    "feat_cat = X.select_dtypes(include=['category']).columns.tolist() \n",
    "\n",
    "# create response for data splitting\n",
    "y = df[y_label]"
   ]
  },
  {
   "cell_type": "markdown",
   "metadata": {},
   "source": [
    "## Train test split"
   ]
  },
  {
   "cell_type": "markdown",
   "metadata": {},
   "source": []
  },
  {
   "cell_type": "code",
   "execution_count": 21,
   "metadata": {},
   "outputs": [],
   "source": [
    "X_train, X_test, y_train, y_test = train_test_split(X, y, test_size=0.2, random_state=42) "
   ]
  },
  {
   "cell_type": "markdown",
   "metadata": {},
   "source": [
    "## Exploration data"
   ]
  },
  {
   "cell_type": "code",
   "execution_count": 23,
   "metadata": {},
   "outputs": [],
   "source": [
    "df_train = pd.DataFrame(X_train.copy()) \n",
    "df_train = df_train.join(pd.DataFrame(y_train)) # df_train nutzen und mit y_train joinen"
   ]
  },
  {
   "cell_type": "code",
   "execution_count": null,
   "metadata": {},
   "outputs": [],
   "source": []
  }
 ],
 "metadata": {
  "interpreter": {
   "hash": "40d3a090f54c6569ab1632332b64b2c03c39dcf918b08424e98f38b5ae0af88f"
  },
  "kernelspec": {
   "display_name": "Python 3.9.7 ('base')",
   "language": "python",
   "name": "python3"
  },
  "language_info": {
   "codemirror_mode": {
    "name": "ipython",
    "version": 3
   },
   "file_extension": ".py",
   "mimetype": "text/x-python",
   "name": "python",
   "nbconvert_exporter": "python",
   "pygments_lexer": "ipython3",
   "version": "3.9.7"
  },
  "orig_nbformat": 4
 },
 "nbformat": 4,
 "nbformat_minor": 2
}
